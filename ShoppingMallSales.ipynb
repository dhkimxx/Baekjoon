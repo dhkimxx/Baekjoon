{
  "nbformat": 4,
  "nbformat_minor": 0,
  "metadata": {
    "colab": {
      "name": "ShoppingMallSales",
      "provenance": [],
      "collapsed_sections": [],
      "authorship_tag": "ABX9TyOSKrgTLPByb8/qmyL4ihbl",
      "include_colab_link": true
    },
    "kernelspec": {
      "name": "python3",
      "display_name": "Python 3"
    },
    "language_info": {
      "name": "python"
    }
  },
  "cells": [
    {
      "cell_type": "markdown",
      "metadata": {
        "id": "view-in-github",
        "colab_type": "text"
      },
      "source": [
        "<a href=\"https://colab.research.google.com/github/dhkimxx/Baekjoon_cpp/blob/master/ShoppingMallSales.ipynb\" target=\"_parent\"><img src=\"https://colab.research.google.com/assets/colab-badge.svg\" alt=\"Open In Colab\"/></a>"
      ]
    },
    {
      "cell_type": "markdown",
      "source": [
        "### **쇼핑몰의 프로모션, 주변 기온, 휴일 정보 등을 이용한 지점별 한 달 매출액 예측**\n",
        "### 1. train.csv : 학습 데이터\n",
        "id : 샘플 아이디<br>\n",
        "Store : 쇼핑몰 지점<br>\n",
        "Date : 주 단위(Weekly) 날짜<br>\n",
        "Temperature : 해당 쇼핑몰 주변 기온<br>\n",
        "Fuel_Price : 해당 쇼핑몰 주변 연료 가격<br>\n",
        "Promotion 1~5 : 해당 쇼핑몰의 비식별화된 프로모션 정보<br>\n",
        "Unemployment : 해당 쇼핑몰 지역의 실업률<br>\n",
        "IsHoliday : 해당 기간의 공휴일 포함 여부<br>\n",
        "Weekly_Sales : 주간 매출액 (목표 예측값)<br>\n",
        "\n",
        "\n",
        "### 2. test.csv : 테스트 데이터\n",
        "id : 샘플 아이디<br>\n",
        "Store : 쇼핑몰 지점<br>\n",
        "Date : 주 단위(Weekly) 날짜<br>\n",
        "Temperature : 해당 쇼핑몰 주변 기온<br>\n",
        "Fuel_Price : 해당 쇼핑몰 주변 연료 가격<br>\n",
        "Promotion 1~5 : 해당 쇼핑몰의 비식별화된 프로모션 정보<br>\n",
        "Unemployment : 해당 쇼핑몰 지역의 실업률<br>\n",
        "IsHoliday : 해당 기간의 공휴일 포함 여부<br>\n",
        "\n",
        "\n",
        "### 3. sample_submission.csv : 제출 양식\n",
        "id : 샘플 아이디<br>\n",
        "Weekly_Sales : 주간 매출액 (목표 예측값)<br>\n"
      ],
      "metadata": {
        "id": "RciPeQMgorNw"
      }
    },
    {
      "cell_type": "code",
      "execution_count": 3,
      "metadata": {
        "id": "LmdhWQTTnFh7"
      },
      "outputs": [],
      "source": [
        "import pandas as pd\n",
        "\n",
        "sample_submission = pd.read_csv('sample_submission.csv')\n",
        "train = pd.read_csv('train.csv')\n",
        "test = pd.read_csv('test.csv')"
      ]
    },
    {
      "cell_type": "code",
      "source": [
        "train_id = train.pop('id')\n",
        "test_id = test.pop('id')\n",
        "\n",
        "train = train.fillna(0)\n",
        "test = test.fillna(0)"
      ],
      "metadata": {
        "id": "Hvc7AitG7ZTV"
      },
      "execution_count": 4,
      "outputs": []
    },
    {
      "cell_type": "code",
      "source": [
        "def get_month(date):\n",
        "    month = date[3:5]\n",
        "    month = int(month)\n",
        "    return month\n",
        "\n",
        "train['Month'] = train['Date'].apply(get_month)\n",
        "test['Month'] = test['Date'].apply(get_month)\n",
        "    \n",
        "train = train.drop(columns = ['Date', 'Store'])\n",
        "test = test.drop(columns = ['Date', 'Store'])"
      ],
      "metadata": {
        "id": "JQMe7lZJtg1o"
      },
      "execution_count": 5,
      "outputs": []
    },
    {
      "cell_type": "code",
      "source": [
        "from sklearn.linear_model import LinearRegression\n",
        "\n",
        "model = LinearRegression()\n",
        "\n",
        "y_train = train.pop('Weekly_Sales')\n",
        "x_train = train\n",
        "\n",
        "model.fit(x_train, y_train)\n",
        "prediction = model.predict(test)"
      ],
      "metadata": {
        "id": "Mri0rbt2vTVM"
      },
      "execution_count": 6,
      "outputs": []
    },
    {
      "cell_type": "code",
      "source": [
        "sample_submission['Weekly_Sales'] = prediction\n",
        "sample_submission.to_csv('submission.csv',index = False)\n",
        "print(pd.read_csv('submission.csv'))"
      ],
      "metadata": {
        "colab": {
          "base_uri": "https://localhost:8080/"
        },
        "id": "mCdfPtuZwmMC",
        "outputId": "b06d6a4c-cf31-4515-99a5-c8ef6dbf9daf"
      },
      "execution_count": 7,
      "outputs": [
        {
          "output_type": "stream",
          "name": "stdout",
          "text": [
            "      id  Weekly_Sales\n",
            "0      1  1.208300e+06\n",
            "1      2  1.165898e+06\n",
            "2      3  1.096522e+06\n",
            "3      4  1.108369e+06\n",
            "4      5  1.187991e+06\n",
            "..   ...           ...\n",
            "175  176  1.115344e+06\n",
            "176  177  1.090808e+06\n",
            "177  178  1.086329e+06\n",
            "178  179  1.054695e+06\n",
            "179  180  1.079328e+06\n",
            "\n",
            "[180 rows x 2 columns]\n"
          ]
        }
      ]
    }
  ]
}